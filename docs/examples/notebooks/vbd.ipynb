{
 "cells": [
  {
   "cell_type": "code",
   "execution_count": null,
   "metadata": {},
   "outputs": [
    {
     "name": "stdout",
     "output_type": "stream",
     "text": [
      "Collecting numpy==1.26\n",
      "  Downloading numpy-1.26.0-cp312-cp312-manylinux_2_17_x86_64.manylinux2014_x86_64.whl.metadata (58 kB)\n",
      "Collecting scipy==1.14\n",
      "  Downloading scipy-1.14.0-cp312-cp312-manylinux_2_17_x86_64.manylinux2014_x86_64.whl.metadata (60 kB)\n",
      "Collecting meshio==5.3.5\n",
      "  Downloading meshio-5.3.5-py3-none-any.whl.metadata (11 kB)\n",
      "Collecting libigl==v2.5.1\n",
      "  Downloading libigl-2.5.1-cp312-cp312-manylinux_2_17_x86_64.manylinux2014_x86_64.whl.metadata (2.3 kB)\n",
      "Collecting polyscope==2.2.1\n",
      "  Downloading polyscope-2.2.1-cp312-cp312-manylinux_2_17_x86_64.manylinux2014_x86_64.whl.metadata (4.6 kB)\n",
      "Collecting ilupp==1.0.2\n",
      "  Downloading ilupp-1.0.2.tar.gz (155 kB)\n",
      "  Installing build dependencies ... \u001b[?25ldone\n",
      "\u001b[?25h  Getting requirements to build wheel ... \u001b[?25ldone\n",
      "\u001b[?25h  Installing backend dependencies ... \u001b[?25ldone\n",
      "\u001b[?25h  Preparing metadata (pyproject.toml) ... \u001b[?25ldone\n",
      "\u001b[?25hCollecting ipctk==1.2.0\n",
      "  Downloading ipctk-1.2.0-cp312-cp312-manylinux_2_17_x86_64.manylinux2014_x86_64.whl.metadata (5.5 kB)\n",
      "Collecting networkx==3.3\n",
      "  Downloading networkx-3.3-py3-none-any.whl.metadata (5.1 kB)\n",
      "Collecting rich (from meshio==5.3.5)\n",
      "  Downloading rich-13.9.2-py3-none-any.whl.metadata (18 kB)\n",
      "Requirement already satisfied: markdown-it-py>=2.2.0 in /usr/local/python/3.12.1/lib/python3.12/site-packages (from rich->meshio==5.3.5) (2.2.0)\n",
      "Requirement already satisfied: pygments<3.0.0,>=2.13.0 in /home/codespace/.local/lib/python3.12/site-packages (from rich->meshio==5.3.5) (2.18.0)\n",
      "Requirement already satisfied: mdurl~=0.1 in /usr/local/python/3.12.1/lib/python3.12/site-packages (from markdown-it-py>=2.2.0->rich->meshio==5.3.5) (0.1.2)\n",
      "Downloading numpy-1.26.0-cp312-cp312-manylinux_2_17_x86_64.manylinux2014_x86_64.whl (17.9 MB)\n",
      "\u001b[2K   \u001b[90m━━━━━━━━━━━━━━━━━━━━━━━━━━━━━━━━━━━━━━━━\u001b[0m \u001b[32m17.9/17.9 MB\u001b[0m \u001b[31m49.7 MB/s\u001b[0m eta \u001b[36m0:00:00\u001b[0m:00:01\u001b[0m\n",
      "\u001b[?25hDownloading scipy-1.14.0-cp312-cp312-manylinux_2_17_x86_64.manylinux2014_x86_64.whl (40.8 MB)\n",
      "\u001b[2K   \u001b[90m━━━━━━━━━━━━━━━━━━━━━━━━━━━━━━━━━━━━━━━━\u001b[0m \u001b[32m40.8/40.8 MB\u001b[0m \u001b[31m71.7 MB/s\u001b[0m eta \u001b[36m0:00:00\u001b[0m:00:01\u001b[0m00:01\u001b[0m\n",
      "\u001b[?25hDownloading meshio-5.3.5-py3-none-any.whl (166 kB)\n",
      "Downloading libigl-2.5.1-cp312-cp312-manylinux_2_17_x86_64.manylinux2014_x86_64.whl (16.2 MB)\n",
      "\u001b[2K   \u001b[90m━━━━━━━━━━━━━━━━━━━━━━━━━━━━━━━━━━━━━━━━\u001b[0m \u001b[32m16.2/16.2 MB\u001b[0m \u001b[31m41.6 MB/s\u001b[0m eta \u001b[36m0:00:00\u001b[0m00:01\u001b[0m\n",
      "\u001b[?25hDownloading polyscope-2.2.1-cp312-cp312-manylinux_2_17_x86_64.manylinux2014_x86_64.whl (3.8 MB)\n",
      "\u001b[2K   \u001b[90m━━━━━━━━━━━━━━━━━━━━━━━━━━━━━━━━━━━━━━━━\u001b[0m \u001b[32m3.8/3.8 MB\u001b[0m \u001b[31m27.6 MB/s\u001b[0m eta \u001b[36m0:00:00\u001b[0m\n",
      "\u001b[?25hDownloading ipctk-1.2.0-cp312-cp312-manylinux_2_17_x86_64.manylinux2014_x86_64.whl (1.7 MB)\n",
      "\u001b[2K   \u001b[90m━━━━━━━━━━━━━━━━━━━━━━━━━━━━━━━━━━━━━━━━\u001b[0m \u001b[32m1.7/1.7 MB\u001b[0m \u001b[31m28.4 MB/s\u001b[0m eta \u001b[36m0:00:00\u001b[0m\n",
      "\u001b[?25hDownloading networkx-3.3-py3-none-any.whl (1.7 MB)\n",
      "\u001b[2K   \u001b[90m━━━━━━━━━━━━━━━━━━━━━━━━━━━━━━━━━━━━━━━━\u001b[0m \u001b[32m1.7/1.7 MB\u001b[0m \u001b[31m29.6 MB/s\u001b[0m eta \u001b[36m0:00:00\u001b[0m\n",
      "\u001b[?25hDownloading rich-13.9.2-py3-none-any.whl (242 kB)\n",
      "Building wheels for collected packages: ilupp\n",
      "  Building wheel for ilupp (pyproject.toml) ... \u001b[?25l\\"
     ]
    }
   ],
   "source": [
    "# Install necessary packages if not already installed (uncomment if needed)\n",
    "!pip install numpy==1.26 scipy==1.14 meshio==5.3.5 libigl==v2.5.1 polyscope==2.2.1 ilupp==1.0.2 ipctk==1.2.0 networkx==3.3"
   ]
  },
  {
   "cell_type": "code",
   "execution_count": null,
   "metadata": {},
   "outputs": [],
   "source": [
    "import meshio\n",
    "import numpy as np\n",
    "import scipy as sp\n",
    "import igl\n",
    "import polyscope as ps\n",
    "import polyscope.imgui as imgui\n",
    "import math\n",
    "import networkx as nx\n",
    "import itertools\n",
    "import pbatoolkit as pbat"
   ]
  },
  {
   "cell_type": "code",
   "execution_count": null,
   "metadata": {},
   "outputs": [],
   "source": [
    "def combine(V: list, C: list):\n",
    "    Vsizes = [Vi.shape[0] for Vi in V]\n",
    "    Csizes = [Ci.shape[0] for Ci in C]\n",
    "    Voffsets = list(itertools.accumulate(Vsizes))\n",
    "    Coffsets = list(itertools.accumulate(Csizes))\n",
    "    C = [C[i] + Voffsets[i] - Vsizes[i] for i in range(len(C))]\n",
    "    C = np.vstack(C)\n",
    "    V = np.vstack(V)\n",
    "    return V, Vsizes, C, Coffsets, Csizes\n",
    "\n",
    "def boundary_triangles(C: np.ndarray, Coffsets: list, Csizes: list):\n",
    "    F = [None]*len(Csizes)\n",
    "    for i in range(len(F)):\n",
    "        begin = Coffsets[i] - Csizes[i]\n",
    "        end = begin + Csizes[i]\n",
    "        F[i] = igl.boundary_facets(C[begin:end, :])\n",
    "        F[i][:, :2] = np.roll(F[i][:, :2], shift=1, axis=1)\n",
    "    Fsizes = [Fi.shape[0] for Fi in F]\n",
    "    F = np.vstack(F)\n",
    "    return F, Fsizes\n",
    "\n",
    "def vertex_tetrahedron_adjacency_graph(V, C):\n",
    "    row = np.repeat(range(C.shape[0]), C.shape[1])\n",
    "    col = C.flatten()\n",
    "    data = np.zeros_like(C)\n",
    "    for i in range(C.shape[1]):\n",
    "        data[:, i] = i\n",
    "    data = data.flatten()\n",
    "    GVT = sp.sparse.coo_array((data, (row, col)), shape=(\n",
    "        C.shape[0], V.shape[0])).asformat(\"csc\")\n",
    "    return GVT\n",
    "\n",
    "def color_dict_to_array(Cdict, n):\n",
    "    C = np.zeros(n)\n",
    "    keys = [key for key in Cdict.keys()]\n",
    "    values = [value for value in Cdict.values()]\n",
    "    C[keys] = values\n",
    "    return C\n",
    "\n",
    "def partition_vertices(GVT, dbcs):\n",
    "    GVV = GVT.T @ GVT\n",
    "    Gprimal = nx.Graph(GVV)\n",
    "    GC = nx.greedy_color(Gprimal, strategy=\"random_sequential\")\n",
    "    GC = color_dict_to_array(GC, GVT.shape[1]).astype(np.int32)\n",
    "    npartitions = GC.max() + 1\n",
    "    partitions = []\n",
    "    for p in range(npartitions):\n",
    "        vertices = np.nonzero(GC == p)[0]\n",
    "        vertices = np.setdiff1d(vertices, dbcs).tolist()\n",
    "        if len(vertices) > 0:\n",
    "            partitions.append(vertices)\n",
    "    return partitions, GC"
   ]
  },
  {
   "cell_type": "markdown",
   "metadata": {},
   "source": [
    "# Set up some example parameters (replace with your own mesh inputs if necessary)"
   ]
  },
  {
   "cell_type": "code",
   "execution_count": null,
   "metadata": {},
   "outputs": [],
   "source": [
    "input_mesh_paths = ['mesh1.obj', 'mesh2.obj']  # Example mesh files (replace with actual paths)\n",
    "output_path = \".\"  # Example output path\n",
    "rho = 1000.\n",
    "Y = 1e6\n",
    "nu = 0.45\n",
    "translation = 0.1\n",
    "percent_fixed = 0.01\n",
    "fixed_axis = 2\n",
    "fixed_end = \"min\""
   ]
  },
  {
   "cell_type": "markdown",
   "metadata": {},
   "source": [
    "# Combine the mesh data"
   ]
  },
  {
   "cell_type": "code",
   "execution_count": null,
   "metadata": {},
   "outputs": [],
   "source": [
    "imeshes = [meshio.read(input) for input in input_mesh_paths]\n",
    "V, C = [imesh.points / (imesh.points.max() - imesh.points.min()) for imesh in imeshes], [\n",
    "    imesh.cells_dict[\"tetra\"] for imesh in imeshes]\n",
    "for i in range(len(V) - 1):\n",
    "    extent = V[i][:, -1].max() - V[i][:, -1].min()\n",
    "    offset = V[i][:, -1].max() - V[i+1][:, -1].min()\n",
    "    V[i+1][:, -1] += offset + extent*translation"
   ]
  },
  {
   "cell_type": "markdown",
   "metadata": {},
   "source": [
    "# Compute mass matrix and other physical quantities"
   ]
  },
  {
   "cell_type": "code",
   "execution_count": null,
   "metadata": {},
   "outputs": [],
   "source": [
    "detJeM = pbat.fem.jacobian_determinants(mesh, quadrature_order=2)\n",
    "M = pbat.fem.MassMatrix(mesh, detJeM, rho=rho,\n",
    "                        dims=1, quadrature_order=2).to_matrix()\n",
    "m = np.array(M.sum(axis=0)).squeeze()"
   ]
  },
  {
   "cell_type": "markdown",
   "metadata": {},
   "source": [
    "# Set up gravity field and load vector"
   ]
  },
  {
   "cell_type": "code",
   "execution_count": null,
   "metadata": {},
   "outputs": [],
   "source": [
    "detJeU = pbat.fem.jacobian_determinants(mesh, quadrature_order=1)\n",
    "GNeU = pbat.fem.shape_function_gradients(mesh, quadrature_order=1)\n",
    "qgf = pbat.fem.inner_product_weights(mesh, quadrature_order=1).flatten(order=\"F\")\n",
    "Qf = sp.sparse.diags_array([qgf], offsets=[0])\n",
    "Nf = pbat.fem.shape_function_matrix(mesh, quadrature_order=1)\n",
    "g = np.zeros(mesh.dims)\n",
    "g[-1] = -9.81\n",
    "fe = np.tile(rho*g[:, np.newaxis], mesh.E.shape[1])\n",
    "f = fe @ Qf @ Nf\n",
    "a = f / m"
   ]
  },
  {
   "cell_type": "markdown",
   "metadata": {},
   "source": [
    "# Material constants"
   ]
  },
  {
   "cell_type": "code",
   "execution_count": null,
   "metadata": {},
   "outputs": [],
   "source": [
    "Y = np.full(mesh.E.shape[1], Y)\n",
    "nu = np.full(mesh.E.shape[1], nu)\n",
    "mue = Y / (2*(1+nu))\n",
    "lambdae = (Y*nu) / ((1+nu)*(1-2*nu))"
   ]
  },
  {
   "cell_type": "markdown",
   "metadata": {},
   "source": [
    "# Boundary conditions"
   ]
  },
  {
   "cell_type": "code",
   "execution_count": null,
   "metadata": {},
   "outputs": [],
   "source": [
    "Xmin = mesh.X.min(axis=1)\n",
    "Xmax = mesh.X.max(axis=1)\n",
    "extent = Xmax - Xmin\n",
    "if fixed_end == \"min\":\n",
    "    Xmax[fixed_axis] = Xmin[fixed_axis] + percent_fixed*extent[fixed_axis]\n",
    "elif fixed_end == \"max\":\n",
    "    Xmin[fixed_axis] = Xmax[fixed_axis] - percent_fixed*extent[fixed_axis]\n",
    "aabb = pbat.geometry.aabb(np.vstack((Xmin, Xmax)).T)\n",
    "vdbc = aabb.contained(mesh.X)\n",
    "a[:, vdbc] = 0."
   ]
  },
  {
   "cell_type": "markdown",
   "metadata": {},
   "source": [
    "# Vertex Block Descent Setup"
   ]
  },
  {
   "cell_type": "code",
   "execution_count": null,
   "metadata": {},
   "outputs": [],
   "source": [
    "Vcollision = np.unique(F)\n",
    "VC = Vcollision[:, np.newaxis].T\n",
    "vbd = pbat.gpu.vbd.Vbd(V.T, VC, F.T, C.T)\n",
    "vbd.a = a\n",
    "vbd.m = m\n",
    "vbd.wg = detJeU / 6\n",
    "vbd.GNe = GNeU\n",
    "vbd.lame = np.vstack((mue, lambdae))\n",
    "GVT = vertex_tetrahedron_adjacency_graph(V, C)\n",
    "vbd.GVT = GVT.indptr, GVT.indices, GVT.data"
   ]
  },
  {
   "cell_type": "markdown",
   "metadata": {},
   "source": [
    "# Partitions and coloring"
   ]
  },
  {
   "cell_type": "code",
   "execution_count": null,
   "metadata": {},
   "outputs": [],
   "source": [
    "GVTtopology = GVT.copy()\n",
    "GVTtopology.data[:] = 1\n",
    "partitions, GC = partition_vertices(GVTtopology, vdbc)\n",
    "vbd.partitions = partitions\n",
    "thread_block_size = 64\n",
    "vbd.set_gpu_block_size(thread_block_size)"
   ]
  },
  {
   "cell_type": "markdown",
   "metadata": {},
   "source": [
    "# Polyscope Setup"
   ]
  },
  {
   "cell_type": "code",
   "execution_count": null,
   "metadata": {},
   "outputs": [],
   "source": [
    "ps.set_verbosity(0)\n",
    "ps.set_up_dir(\"z_up\")\n",
    "ps.set_front_dir(\"neg_y_front\")\n",
    "ps.set_ground_plane_mode(\"shadow_only\")\n",
    "ps.set_ground_plane_height_factor(0.5)\n",
    "ps.set_program_name(\"Vertex Block Descent\")\n",
    "ps.init()\n",
    "vm = ps.register_volume_mesh(\"Simulation mesh\", V, C)\n",
    "vm.add_scalar_quantity(\"Coloring\", GC, defined_on=\"vertices\", cmap=\"jet\")\n",
    "pc = ps.register_point_cloud(\"Dirichlet\", V[vdbc, :])"
   ]
  },
  {
   "cell_type": "markdown",
   "metadata": {},
   "source": [
    "# Visualization callback function"
   ]
  },
  {
   "cell_type": "code",
   "execution_count": null,
   "metadata": {},
   "outputs": [],
   "source": [
    "def callback():\n",
    "    global dt, iterations, substeps, rho_chebyshev, thread_block_size, initialization_strategy, RdetH, kD\n",
    "    global animate, export, t\n",
    "    global profiler\n",
    "\n",
    "    changed, dt = imgui.InputFloat(\"dt\", dt)\n",
    "    changed, iterations = imgui.InputInt(\"Iterations\", iterations)\n",
    "    changed, substeps = imgui.InputInt(\"Substeps\", substeps)\n",
    "    changed, rho_chebyshev = imgui.InputFloat(\n",
    "        \"Chebyshev rho\", rho_chebyshev)\n",
    "    changed, kD = imgui.InputFloat(\n",
    "        \"Damping\", kD, format=\"%.8f\")\n",
    "    changed, RdetH = imgui.InputFloat(\n",
    "        \"Residual det(H)\", RdetH, format=\"%.15f\")\n",
    "    changed, thread_block_size = imgui.InputInt(\n",
    "        \"Thread block size\", thread_block_size)\n",
    "    changed = imgui.BeginCombo(\n",
    "        \"Initialization strategy\", str(initialization_strategy).split('.')[-1])\n",
    "    if changed:\n",
    "        for i in range(len(initialization_strategies)):\n",
    "            _, selected = imgui.Selectable(\n",
    "                str(initialization_strategies[i]).split('.')[-1], initialization_strategy == initialization_strategies[i])\n",
    "            if selected:\n",
    "                initialization_strategy = initialization_strategies[i]\n",
    "        imgui.EndCombo()\n",
    "    vbd.initialization_strategy = initialization_strategy\n",
    "    vbd.kD = kD\n",
    "    vbd.RdetH = RdetH\n",
    "    changed, animate = imgui.Checkbox(\"Animate\", animate)\n",
    "    changed, export = imgui.Checkbox(\"Export\", export)\n",
    "    step = imgui.Button(\"Step\")\n",
    "    reset = imgui.Button(\"Reset\")\n",
    "\n",
    "    if reset:\n",
    "        vbd.x = mesh.X\n",
    "        vbd.v = np.zeros(mesh.X.shape)\n",
    "        vm.update_vertex_positions(mesh.X.T)\n",
    "        t = 0\n",
    "\n",
    "    vbd.set_gpu_block_size(thread_block_size)\n",
    "\n",
    "    if animate or step:\n",
    "        profiler.begin_frame(\"Physics\")\n",
    "        vbd.step(dt, iterations, substeps, rho_chebyshev)\n",
    "        profiler.end_frame(\"Physics\")\n",
    "\n",
    "        V = vbd.x.T\n",
    "        if export:\n",
    "            ps.screenshot(f\"{output_path}/{t}.png\")\n",
    "\n",
    "        vm.update_vertex_positions(V)\n",
    "        t = t+1\n",
    "\n",
    "    imgui.Text(f\"Frame={t}\")"
   ]
  },
  {
   "cell_type": "markdown",
   "metadata": {},
   "source": [
    "# Set up polyscope callback"
   ]
  },
  {
   "cell_type": "code",
   "execution_count": null,
   "metadata": {},
   "outputs": [],
   "source": [
    "ps.set_user_callback(callback)\n",
    "ps.show()"
   ]
  },
  {
   "cell_type": "code",
   "execution_count": null,
   "metadata": {},
   "outputs": [],
   "source": []
  }
 ],
 "metadata": {
  "kernelspec": {
   "display_name": "Python 3",
   "language": "python",
   "name": "python3"
  },
  "language_info": {
   "codemirror_mode": {
    "name": "ipython",
    "version": 3
   },
   "file_extension": ".py",
   "mimetype": "text/x-python",
   "name": "python",
   "nbconvert_exporter": "python",
   "pygments_lexer": "ipython3",
   "version": "3.12.1"
  }
 },
 "nbformat": 4,
 "nbformat_minor": 2
}
