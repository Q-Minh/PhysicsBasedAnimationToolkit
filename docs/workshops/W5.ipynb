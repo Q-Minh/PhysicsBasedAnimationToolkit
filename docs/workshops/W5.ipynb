{
 "cells": [
  {
   "attachments": {},
   "cell_type": "markdown",
   "metadata": {},
   "source": [
    "# Workshop 5: Lagrange elements\n",
    "\n",
    "We now turn to deriving shape functions for different elements, the fundamental building block for FEM discretization. In particular, we focus on the Lagrange elements. Instead of deriving shape functions by hand, we will systematically solve for these shape functions using the interpolation problem described [here](./README.md) in the subsection on shape functions. To do so, we will use a symbolic calculator, [sympy](https://www.sympy.org/en/index.html)."
   ]
  },
  {
   "attachments": {},
   "cell_type": "markdown",
   "metadata": {},
   "source": [
    "## Lagrange nodes\n",
    "\n",
    "1. Compute the Lagrange nodal positions for the reference line, triangle, quadrilateral, tetrahedron and hexahedron. You can use sympy's rational numbers to store exact coordinates.\n",
    "2. Visualize the reference elements and their nodes."
   ]
  },
  {
   "cell_type": "code",
   "execution_count": null,
   "metadata": {},
   "outputs": [],
   "source": []
  },
  {
   "attachments": {},
   "cell_type": "markdown",
   "metadata": {},
   "source": [
    "## Lagrange shape functions\n",
    "\n",
    "1. Setup the shape function interpolation problem, i.e. the polynomial matrix inversion problem, using symbolic positions. Use sympy's `Symbol` and similar `MatrixSymbol` classes to help out. Refer to the [Introduction to SymPy](https://docs.sympy.org/latest/tutorials/intro-tutorial/index.html#intro-tutorial) and the [Matrices module](https://docs.sympy.org/latest/modules/matrices/matrices.html).\n",
    "2. Solve the interpolation problem (i.e. matrix inversion) using a symbolic matrix inversion.\n",
    "3. Compute the resulting shape functions and (pretty) print them.\n",
    "4. Validate that the shape functions are indeed interpolating at their associated node, and vanish at other nodes. In other words, check that they satisfy the Kronecker delta property.\n",
    "5. Differentiate the shape functions to obtain their gradients. Print them.\n",
    "6. Apply other differential operators (higher order derivatives, integrals, etc.) to the shape functions, if you are interested."
   ]
  },
  {
   "cell_type": "code",
   "execution_count": null,
   "metadata": {},
   "outputs": [],
   "source": []
  },
  {
   "attachments": {},
   "cell_type": "markdown",
   "metadata": {},
   "source": [
    "## Code generation\n",
    "\n",
    "1. Generate code for shape function computation using SymPy's [code printers](https://docs.sympy.org/latest/modules/printing.html#printing).\n",
    "3. Generate code for shape function gradients."
   ]
  },
  {
   "cell_type": "code",
   "execution_count": null,
   "metadata": {},
   "outputs": [],
   "source": []
  },
  {
   "attachments": {},
   "cell_type": "markdown",
   "metadata": {},
   "source": [
    "## Solutions\n",
    "\n",
    "Our implementation of shape functions and their gradients is code-generated. See our [Lagrange element script](/python/fem/lagrange.py) and the [C++ code printer it uses](/python/codegen.py)."
   ]
  }
 ],
 "metadata": {
  "language_info": {
   "name": "python"
  }
 },
 "nbformat": 4,
 "nbformat_minor": 2
}
