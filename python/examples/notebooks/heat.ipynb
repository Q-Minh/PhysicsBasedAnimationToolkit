{
 "cells": [
  {
   "cell_type": "code",
   "execution_count": null,
   "id": "d5faae3b",
   "metadata": {},
   "outputs": [],
   "source": [
    "!pip install numpy==1.26.0 scipy==1.14.0 meshio==5.3.5 libigl==v2.5.1 polyscope==2.2.1 pbatoolkit"
   ]
  },
  {
   "cell_type": "code",
   "execution_count": null,
   "id": "d5faae3b",
   "metadata": {},
   "outputs": [],
   "source": [
    "import pbatoolkit as pbat\n",
    "import pbatoolkit.math.linalg\n",
    "import igl\n",
    "import polyscope as ps\n",
    "import polyscope.imgui as imgui\n",
    "import numpy as np\n",
    "import scipy as sp\n",
    "import argparse\n",
    "import meshio\n",
    "import os"
   ]
  },
  {
   "cell_type": "markdown",
   "id": "708dc927",
   "metadata": {},
   "source": [
    "# Define the input path for the mesh"
   ]
  },
  {
   "cell_type": "code",
   "execution_count": null,
   "id": "bd6b2591",
   "metadata": {},
   "outputs": [],
   "source": [
    "current_path = os.getcwd()\n",
    "\n",
    "input_path = os.path.join(current_path, 'python' ,'examples', 'notebooks', 'resources', 'bunny.obj')"
   ]
  },
  {
   "cell_type": "markdown",
   "id": "dc4eec39",
   "metadata": {},
   "source": [
    "# Load the mesh"
   ]
  },
  {
   "cell_type": "code",
   "execution_count": null,
   "id": "c22920c4",
   "metadata": {},
   "outputs": [],
   "source": [
    "imesh = meshio.read(input_path)\n",
    "mesh = None\n",
    "if \"tetra\" in imesh.cells_dict.keys():\n",
    "    V, C = imesh.points, imesh.cells_dict[\"tetra\"]\n",
    "    mesh = pbat.fem.Mesh(\n",
    "        V.T, C.T, element=pbat.fem.Element.Tetrahedron, order=1)\n",
    "if \"triangle\" in imesh.cells_dict.keys():\n",
    "    V, C = imesh.points, imesh.cells_dict[\"triangle\"]\n",
    "    mesh = pbat.fem.Mesh(\n",
    "        V.T, C.T, element=pbat.fem.Element.Triangle, order=1)\n",
    "\n",
    "V, C = mesh.X.T, mesh.E.T\n",
    "F = C\n",
    "if mesh.element == pbat.fem.Element.Tetrahedron:\n",
    "    F = igl.boundary_facets(C)\n",
    "    F[:, :2] = np.roll(F[:, :2], shift=1, axis=1)\n",
    "\n",
    "gamma = [0]"
   ]
  },
  {
   "cell_type": "markdown",
   "id": "ab4b82fa",
   "metadata": {},
   "source": [
    "# Construct Galerkin laplacian, mass and gradient operators"
   ]
  },
  {
   "cell_type": "code",
   "execution_count": null,
   "id": "21480437",
   "metadata": {},
   "outputs": [],
   "source": [
    "n = V.shape[0]\n",
    "qgM = pbat.fem.inner_product_weights(\n",
    "    mesh, quadrature_order=2).flatten(order=\"F\")\n",
    "QM = sp.sparse.diags_array([qgM], offsets=[0])\n",
    "NM = pbat.fem.shape_function_matrix(mesh, quadrature_order=2)\n",
    "M = NM.T @ QM @ NM\n",
    "GNeL = pbat.fem.shape_function_gradients(mesh, quadrature_order=1)\n",
    "G = pbat.fem.Gradient(\n",
    "    mesh, GNeL, quadrature_order=1).to_matrix()\n",
    "qgL = pbat.fem.inner_product_weights(\n",
    "    mesh, quadrature_order=1).flatten(order=\"F\")\n",
    "QL = sp.sparse.diags_array([qgL], offsets=[0])\n",
    "QL = sp.sparse.kron(sp.sparse.eye_array(3), QL)\n",
    "D = -G.T @ QL\n",
    "L = D @ G"
   ]
  },
  {
   "cell_type": "markdown",
   "id": "14beb2f4",
   "metadata": {},
   "source": [
    "# Setup 1-step heat diffusion"
   ]
  },
  {
   "cell_type": "code",
   "execution_count": null,
   "id": "50eebfdb",
   "metadata": {},
   "outputs": [],
   "source": [
    "\n",
    "h = igl.avg_edge_length(V, C)\n",
    "dt = h**2\n",
    "k = 2\n",
    "A = M - k*dt*L"
   ]
  },
  {
   "cell_type": "markdown",
   "id": "89ded3b9",
   "metadata": {},
   "source": [
    "# Precompute linear solvers"
   ]
  },
  {
   "cell_type": "code",
   "execution_count": null,
   "id": "061bc0f5",
   "metadata": {},
   "outputs": [],
   "source": [
    "Ainv = pbat.math.linalg.ldlt(A)\n",
    "Ainv.compute(A)\n",
    "Linv = pbat.math.linalg.ldlt(L)\n",
    "Linv.compute(L)\n"
   ]
  },
  {
   "cell_type": "markdown",
   "id": "e4b169cc",
   "metadata": {},
   "source": [
    "# Setup isoline visuals"
   ]
  },
  {
   "cell_type": "code",
   "execution_count": null,
   "id": "beacc419",
   "metadata": {},
   "outputs": [],
   "source": [
    "niso = 10\n",
    "\n",
    "ps.set_up_dir(\"z_up\")\n",
    "ps.set_front_dir(\"neg_y_front\")\n",
    "ps.set_ground_plane_mode(\"shadow_only\")\n",
    "ps.init()\n"
   ]
  },
  {
   "cell_type": "code",
   "execution_count": null,
   "id": "114ba26f",
   "metadata": {},
   "outputs": [],
   "source": [
    "def callback():\n",
    "    global k, dt, Ainv, Linv, G, M, L, gamma, niso\n",
    "    kchanged, k = imgui.InputFloat(\"k\", k)\n",
    "    if kchanged:\n",
    "        A = M - k*dt*L\n",
    "        Ainv.factorize(A)\n",
    "\n",
    "    _, niso = imgui.InputInt(\"# iso\", niso)\n",
    "    _, gamma[0] = imgui.InputInt(\"source\", gamma[0])\n",
    "    if imgui.Button(\"Compute\"):\n",
    "        # Compute heat and its gradient\n",
    "        u0 = np.zeros(n)\n",
    "        u0[gamma] = 1\n",
    "        b = M @ u0\n",
    "        u = Ainv.solve(b).squeeze()\n",
    "        gradu = (G @ u).reshape(int(G.shape[0]/3), 3)\n",
    "        # Stable normalize gradient\n",
    "        gradnorm = sp.linalg.norm(gradu, axis=1, keepdims=True)\n",
    "        gnnz = gradnorm[:, 0] > 0\n",
    "        gradu[gnnz, :] = gradu[gnnz, :] / gradnorm[gnnz, :]\n",
    "        # Solve Poisson problem to reconstruct geodesic distance field, knowing that phi[0] = 0\n",
    "        divGu = D @ gradu.reshape(G.shape[0])\n",
    "        phi = Linv.solve(divGu).squeeze()\n",
    "        # Laplacian is invariant to scale+translation, i.e. L(kx+t) = L(x).\n",
    "        # This means that our solution can be shifted and/or reflected.\n",
    "        # We handle this by flipping signs if a reflexion is \"detected\",\n",
    "        # and shifting such that the smallest \"distance\" is 0.\n",
    "        if phi[gamma].mean() > phi.mean():\n",
    "            phi = -phi\n",
    "        phi -= phi.min()\n",
    "\n",
    "        # Code for libigl 2.5.1\n",
    "        diso = (phi.max() - phi.min()) / niso\n",
    "        isovalues = np.array([(i+0.5)*diso for i in range(niso)])\n",
    "        Viso, Eiso, Iiso = igl.isolines(V, F, phi, isovalues)\n",
    "        # Uncomment for libigl 2.4.1\n",
    "        # Viso, Eiso = igl.isolines(V, F, phi, niso)\n",
    "        cn = ps.register_curve_network(\"distance contours\", Viso, Eiso)\n",
    "        cn.set_color((0, 0, 0))\n",
    "        cn.set_radius(0.002)\n",
    "        vm = ps.get_volume_mesh(\n",
    "            \"model\") if mesh.element == pbat.fem.Element.Tetrahedron else ps.get_surface_mesh(\"model\")\n",
    "        vm.add_scalar_quantity(\"heat\", u, cmap=\"reds\")\n",
    "        vm.add_scalar_quantity(\"distance\", phi, cmap=\"reds\", enabled=True)\n",
    "        grad_defined_on = \"cells\" if mesh.element == pbat.fem.Element.Tetrahedron else \"faces\"\n",
    "        vm.add_vector_quantity(\"normalized heat grad\",\n",
    "                               gradu, defined_on=grad_defined_on)\n",
    "        vm.add_scalar_quantity(\"div unit gradient\", divGu)\n",
    "\n",
    "if mesh.element == pbat.fem.Element.Tetrahedron:\n",
    "    ps.register_volume_mesh(\"model\", V, C)\n",
    "if mesh.element == pbat.fem.Element.Triangle:\n",
    "    ps.register_surface_mesh(\"model\", V, C)\n",
    "ps.set_user_callback(callback)\n",
    "ps.show()"
   ]
  }
 ],
 "metadata": {
  "kernelspec": {
   "display_name": "Python 3",
   "language": "python",
   "name": "python3"
  },
  "language_info": {
   "codemirror_mode": {
    "name": "ipython",
    "version": 3
   },
   "file_extension": ".py",
   "mimetype": "text/x-python",
   "name": "python",
   "nbconvert_exporter": "python",
   "pygments_lexer": "ipython3",
   "version": "3.8.5"
  }
 },
 "nbformat": 4,
 "nbformat_minor": 5
}
