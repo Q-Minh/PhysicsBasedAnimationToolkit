{
 "cells": [
  {
   "cell_type": "code",
   "execution_count": null,
   "id": "cfe981d0",
   "metadata": {},
   "outputs": [],
   "source": [
    "pip install numpy==1.26.0 scipy==1.14.0 meshio==5.3.5 libigl==v2.5.1 polyscope==2.2.1 ilupp==1.0.2 ipctk==1.2.0 pbatoolkit"
   ]
  },
  {
   "cell_type": "code",
   "execution_count": 1,
   "id": "d5faae3b",
   "metadata": {},
   "outputs": [],
   "source": [
    "import pbatoolkit as pbat\n",
    "import pbatoolkit.math.linalg\n",
    "import igl\n",
    "import polyscope as ps\n",
    "import polyscope.imgui as imgui\n",
    "import numpy as np\n",
    "import scipy as sp\n",
    "import argparse\n",
    "import meshio\n",
    "import os\n",
    "import pathlib"
   ]
  },
  {
   "cell_type": "markdown",
   "id": "5ffc992f",
   "metadata": {},
   "source": [
    "# Define the input path for the triangle mesh"
   ]
  },
  {
   "cell_type": "code",
   "execution_count": 4,
   "id": "bd6b2591",
   "metadata": {},
   "outputs": [],
   "source": [
    "current_path = os.getcwd()\n",
    "\n",
    "input_path = os.path.join(current_path, 'python' ,'examples', 'notebooks', 'resources', 'tetreahedron.obj')"
   ]
  },
  {
   "cell_type": "code",
   "execution_count": 5,
   "id": "c22920c4",
   "metadata": {},
   "outputs": [
    {
     "ename": "ValueError",
     "evalue": "len(points) = 220, but len(point_data[\"obj:vn\"]) = 216",
     "output_type": "error",
     "traceback": [
      "\u001b[0;31m---------------------------------------------------------------------------\u001b[0m",
      "\u001b[0;31mValueError\u001b[0m                                Traceback (most recent call last)",
      "\u001b[1;32m/workspaces/PhysicsBasedAnimationToolkit/python/examples/notebooks/diffusion_smoothing.ipynb Cell 5\u001b[0m line \u001b[0;36m1\n\u001b[0;32m----> <a href='vscode-notebook-cell://codespaces%2Bvigilant-barnacle-7vp9prxqx6gcw6qx/workspaces/PhysicsBasedAnimationToolkit/python/examples/notebooks/diffusion_smoothing.ipynb#W3sdnNjb2RlLXJlbW90ZQ%3D%3D?line=0'>1</a>\u001b[0m imesh \u001b[39m=\u001b[39m meshio\u001b[39m.\u001b[39;49mread(input_path)\n\u001b[1;32m      <a href='vscode-notebook-cell://codespaces%2Bvigilant-barnacle-7vp9prxqx6gcw6qx/workspaces/PhysicsBasedAnimationToolkit/python/examples/notebooks/diffusion_smoothing.ipynb#W3sdnNjb2RlLXJlbW90ZQ%3D%3D?line=1'>2</a>\u001b[0m V, F \u001b[39m=\u001b[39m imesh\u001b[39m.\u001b[39mpoints, imesh\u001b[39m.\u001b[39mcells_dict[\u001b[39m\"\u001b[39m\u001b[39mtriangle\u001b[39m\u001b[39m\"\u001b[39m]\n\u001b[1;32m      <a href='vscode-notebook-cell://codespaces%2Bvigilant-barnacle-7vp9prxqx6gcw6qx/workspaces/PhysicsBasedAnimationToolkit/python/examples/notebooks/diffusion_smoothing.ipynb#W3sdnNjb2RlLXJlbW90ZQ%3D%3D?line=2'>3</a>\u001b[0m V, F \u001b[39m=\u001b[39m V\u001b[39m.\u001b[39mastype(np\u001b[39m.\u001b[39mfloat64, order\u001b[39m=\u001b[39m\u001b[39m'\u001b[39m\u001b[39mc\u001b[39m\u001b[39m'\u001b[39m), F\u001b[39m.\u001b[39mastype(np\u001b[39m.\u001b[39mint64, order\u001b[39m=\u001b[39m\u001b[39m'\u001b[39m\u001b[39mc\u001b[39m\u001b[39m'\u001b[39m)\n",
      "File \u001b[0;32m~/.python/current/lib/python3.10/site-packages/meshio/_helpers.py:71\u001b[0m, in \u001b[0;36mread\u001b[0;34m(filename, file_format)\u001b[0m\n\u001b[1;32m     68\u001b[0m \u001b[39mif\u001b[39;00m is_buffer(filename, \u001b[39m\"\u001b[39m\u001b[39mr\u001b[39m\u001b[39m\"\u001b[39m):\n\u001b[1;32m     69\u001b[0m     \u001b[39mreturn\u001b[39;00m _read_buffer(filename, file_format)\n\u001b[0;32m---> 71\u001b[0m \u001b[39mreturn\u001b[39;00m _read_file(Path(filename), file_format)\n",
      "File \u001b[0;32m~/.python/current/lib/python3.10/site-packages/meshio/_helpers.py:103\u001b[0m, in \u001b[0;36m_read_file\u001b[0;34m(path, file_format)\u001b[0m\n\u001b[1;32m    100\u001b[0m     \u001b[39mraise\u001b[39;00m ReadError(\u001b[39mf\u001b[39m\u001b[39m\"\u001b[39m\u001b[39mUnknown file format \u001b[39m\u001b[39m'\u001b[39m\u001b[39m{\u001b[39;00mfile_format\u001b[39m}\u001b[39;00m\u001b[39m'\u001b[39m\u001b[39m of \u001b[39m\u001b[39m'\u001b[39m\u001b[39m{\u001b[39;00mpath\u001b[39m}\u001b[39;00m\u001b[39m'\u001b[39m\u001b[39m.\u001b[39m\u001b[39m\"\u001b[39m)\n\u001b[1;32m    102\u001b[0m \u001b[39mtry\u001b[39;00m:\n\u001b[0;32m--> 103\u001b[0m     \u001b[39mreturn\u001b[39;00m reader_map[file_format](\u001b[39mstr\u001b[39;49m(path))\n\u001b[1;32m    104\u001b[0m \u001b[39mexcept\u001b[39;00m ReadError \u001b[39mas\u001b[39;00m e:\n\u001b[1;32m    105\u001b[0m     \u001b[39mprint\u001b[39m(e)\n",
      "File \u001b[0;32m~/.python/current/lib/python3.10/site-packages/meshio/obj/_obj.py:19\u001b[0m, in \u001b[0;36mread\u001b[0;34m(filename)\u001b[0m\n\u001b[1;32m     17\u001b[0m \u001b[39mdef\u001b[39;00m \u001b[39mread\u001b[39m(filename):\n\u001b[1;32m     18\u001b[0m     \u001b[39mwith\u001b[39;00m open_file(filename, \u001b[39m\"\u001b[39m\u001b[39mr\u001b[39m\u001b[39m\"\u001b[39m) \u001b[39mas\u001b[39;00m f:\n\u001b[0;32m---> 19\u001b[0m         mesh \u001b[39m=\u001b[39m read_buffer(f)\n\u001b[1;32m     20\u001b[0m     \u001b[39mreturn\u001b[39;00m mesh\n",
      "File \u001b[0;32m~/.python/current/lib/python3.10/site-packages/meshio/obj/_obj.py:99\u001b[0m, in \u001b[0;36mread_buffer\u001b[0;34m(f)\u001b[0m\n\u001b[1;32m     96\u001b[0m         cells\u001b[39m.\u001b[39mappend(CellBlock(\u001b[39m\"\u001b[39m\u001b[39mpolygon\u001b[39m\u001b[39m\"\u001b[39m, f \u001b[39m-\u001b[39m \u001b[39m1\u001b[39m))\n\u001b[1;32m     97\u001b[0m     cell_data[\u001b[39m\"\u001b[39m\u001b[39mobj:group_ids\u001b[39m\u001b[39m\"\u001b[39m]\u001b[39m.\u001b[39mappend(gid)\n\u001b[0;32m---> 99\u001b[0m \u001b[39mreturn\u001b[39;00m Mesh(points, cells, point_data\u001b[39m=\u001b[39;49mpoint_data, cell_data\u001b[39m=\u001b[39;49mcell_data)\n",
      "File \u001b[0;32m~/.python/current/lib/python3.10/site-packages/meshio/_mesh.py:166\u001b[0m, in \u001b[0;36mMesh.__init__\u001b[0;34m(self, points, cells, point_data, cell_data, field_data, point_sets, cell_sets, gmsh_periodic, info)\u001b[0m\n\u001b[1;32m    164\u001b[0m     \u001b[39mself\u001b[39m\u001b[39m.\u001b[39mpoint_data[key] \u001b[39m=\u001b[39m np\u001b[39m.\u001b[39masarray(item)\n\u001b[1;32m    165\u001b[0m     \u001b[39mif\u001b[39;00m \u001b[39mlen\u001b[39m(\u001b[39mself\u001b[39m\u001b[39m.\u001b[39mpoint_data[key]) \u001b[39m!=\u001b[39m \u001b[39mlen\u001b[39m(\u001b[39mself\u001b[39m\u001b[39m.\u001b[39mpoints):\n\u001b[0;32m--> 166\u001b[0m         \u001b[39mraise\u001b[39;00m \u001b[39mValueError\u001b[39;00m(\n\u001b[1;32m    167\u001b[0m             \u001b[39mf\u001b[39m\u001b[39m\"\u001b[39m\u001b[39mlen(points) = \u001b[39m\u001b[39m{\u001b[39;00m\u001b[39mlen\u001b[39m(\u001b[39mself\u001b[39m\u001b[39m.\u001b[39mpoints)\u001b[39m}\u001b[39;00m\u001b[39m, \u001b[39m\u001b[39m\"\u001b[39m\n\u001b[1;32m    168\u001b[0m             \u001b[39mf\u001b[39m\u001b[39m'\u001b[39m\u001b[39mbut len(point_data[\u001b[39m\u001b[39m\"\u001b[39m\u001b[39m{\u001b[39;00mkey\u001b[39m}\u001b[39;00m\u001b[39m\"\u001b[39m\u001b[39m]) = \u001b[39m\u001b[39m{\u001b[39;00m\u001b[39mlen\u001b[39m(\u001b[39mself\u001b[39m\u001b[39m.\u001b[39mpoint_data[key])\u001b[39m}\u001b[39;00m\u001b[39m'\u001b[39m\n\u001b[1;32m    169\u001b[0m         )\n\u001b[1;32m    171\u001b[0m \u001b[39m# assert cell data consistency and convert to numpy arrays\u001b[39;00m\n\u001b[1;32m    172\u001b[0m \u001b[39mfor\u001b[39;00m key, data \u001b[39min\u001b[39;00m \u001b[39mself\u001b[39m\u001b[39m.\u001b[39mcell_data\u001b[39m.\u001b[39mitems():\n",
      "\u001b[0;31mValueError\u001b[0m: len(points) = 220, but len(point_data[\"obj:vn\"]) = 216"
     ]
    }
   ],
   "source": [
    "imesh = meshio.read(input_path)\n",
    "V, F = imesh.points, imesh.cells_dict[\"triangle\"]\n",
    "V, F = V.astype(np.float64, order='c'), F.astype(np.int64, order='c')"
   ]
  },
  {
   "cell_type": "markdown",
   "id": "09a08a05",
   "metadata": {},
   "source": [
    "# Construct Galerkin laplacian, mass and gradient operators"
   ]
  },
  {
   "cell_type": "code",
   "execution_count": null,
   "id": "f68ab63b",
   "metadata": {},
   "outputs": [],
   "source": [
    "mesh = pbat.fem.Mesh(\n",
    "    V.T, F.T, element=pbat.fem.Element.Triangle, order=1)\n",
    "V, F = mesh.X.T, mesh.E.T\n",
    "detJeL = pbat.fem.jacobian_determinants(mesh, quadrature_order=1)\n",
    "GNeL = pbat.fem.shape_function_gradients(mesh, quadrature_order=1)\n",
    "L = pbat.fem.Laplacian(\n",
    "    mesh, detJeL, GNeL, quadrature_order=1).to_matrix()\n",
    "detJeM = pbat.fem.jacobian_determinants(mesh, quadrature_order=2)\n",
    "M = pbat.fem.MassMatrix(mesh, detJeM, dims=1,\n",
    "                         quadrature_order=2).to_matrix()"
   ]
  },
  {
   "cell_type": "markdown",
   "id": "1cb701df",
   "metadata": {},
   "source": [
    "# Setup heat diffusion"
   ]
  },
  {
   "cell_type": "code",
   "execution_count": null,
   "id": "02f88b94",
   "metadata": {},
   "outputs": [],
   "source": [
    "dt = 0.016\n",
    "c = 1\n",
    "A = M - c*dt*L"
   ]
  },
  {
   "cell_type": "markdown",
   "id": "e412a0ee",
   "metadata": {},
   "source": [
    "# Precompute linear solversZ"
   ]
  },
  {
   "cell_type": "code",
   "execution_count": null,
   "id": "bb7ac767",
   "metadata": {},
   "outputs": [],
   "source": [
    "Ainv = pbat.math.linalg.ldlt(A)\n",
    "Ainv.compute(A)"
   ]
  },
  {
   "cell_type": "code",
   "execution_count": null,
   "id": "2f8b1412",
   "metadata": {},
   "outputs": [],
   "source": [
    "ps.set_up_dir(\"z_up\")\n",
    "ps.set_front_dir(\"neg_y_front\")\n",
    "ps.set_ground_plane_mode(\"shadow_only\")\n",
    "ps.init()\n",
    "vmm = ps.register_surface_mesh(\"model\", V, F)\n",
    "vmm.set_smooth_shade(True)\n",
    "vms = ps.register_surface_mesh(\"smoothed\", V, F)\n",
    "vms.set_smooth_shade(True)\n",
    "smooth = False"
   ]
  },
  {
   "cell_type": "code",
   "execution_count": null,
   "id": "debe722a",
   "metadata": {},
   "outputs": [],
   "source": [
    "def callback():\n",
    "    global dt, Ainv, M, L, smooth, V, c\n",
    "    dtchanged, dt = imgui.InputFloat(\"dt\", dt)\n",
    "    cchanged, c = imgui.SliderFloat(\"c\", c, v_min=0, v_max=100)\n",
    "    if dtchanged or cchanged:\n",
    "        A = M - c*dt*L\n",
    "        Ainv.factorize(A)\n",
    "    _, smooth = imgui.Checkbox(\"smooth\", smooth)\n",
    "    if smooth:\n",
    "        V = Ainv.solve(M @ V)\n",
    "        vms.update_vertex_positions(V)\n",
    "\n",
    "ps.set_user_callback(callback)\n",
    "ps.show()"
   ]
  }
 ],
 "metadata": {
  "kernelspec": {
   "display_name": "Python 3",
   "language": "python",
   "name": "python3"
  },
  "language_info": {
   "codemirror_mode": {
    "name": "ipython",
    "version": 3
   },
   "file_extension": ".py",
   "mimetype": "text/x-python",
   "name": "python",
   "nbconvert_exporter": "python",
   "pygments_lexer": "ipython3",
   "version": "3.8.5"
  }
 },
 "nbformat": 4,
 "nbformat_minor": 5
}
