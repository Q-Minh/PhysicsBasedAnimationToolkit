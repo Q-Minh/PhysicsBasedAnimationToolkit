{
 "cells": [
  {
   "cell_type": "code",
   "execution_count": null,
   "id": "5fa6eeb5",
   "metadata": {},
   "outputs": [],
   "source": [
    "!pip install numpy==1.26.0 scipy==1.14.0 meshio==5.3.5 libigl==v2.5.1 polyscope==2.2.1 pbatoolkit"
   ]
  },
  {
   "cell_type": "code",
   "execution_count": null,
   "id": "5fa6eeb6",
   "metadata": {},
   "outputs": [],
   "source": [
    "import pbatoolkit as pbat\n",
    "import pbatoolkit.math.linalg\n",
    "import pbatoolkit.geometry\n",
    "import igl\n",
    "import meshio\n",
    "import polyscope as ps\n",
    "import numpy as np"
   ]
  },
  {
   "cell_type": "code",
   "execution_count": null,
   "id": "5fa6eeb7",
   "metadata": {},
   "outputs": [],
   "source": [
    "def harmonic_field(V: np.ndarray, C: np.ndarray, order: int, eps: float = 0.1):\n",
    "    # Construct order order mesh and its Laplacian\n",
    "    mesh = pbat.fem.Mesh(\n",
    "        V.T, C.T, element=pbat.fem.Element.Tetrahedron, order=order)\n",
    "    quadrature_order = max(int(2*(order-1)), 1)\n",
    "    detJeL = pbat.fem.jacobian_determinants(\n",
    "        mesh, quadrature_order=quadrature_order)\n",
    "    GNeL = pbat.fem.shape_function_gradients(\n",
    "        mesh, quadrature_order=quadrature_order)\n",
    "    L = pbat.fem.Laplacian(\n",
    "        mesh, detJeL, GNeL, quadrature_order=quadrature_order).to_matrix()\n",
    "    # Set Dirichlet boundary conditions at bottom and top of the model\n",
    "    Xmin = mesh.X.min(axis=1)\n",
    "    Xmax = mesh.X.max(axis=1)\n",
    "    extents = Xmax - Xmin\n",
    "    extents[:-1] = 0\n",
    "    aabblo = pbat.geometry.aabb(\n",
    "        np.vstack((Xmin - eps*extents, Xmax - (1-eps)*extents)).T)\n",
    "    gammalo = aabblo.contained(mesh.X)\n",
    "    aabbhi = pbat.geometry.aabb(\n",
    "        np.vstack((Xmin + (1-eps)*extents, Xmax + eps*extents)).T)\n",
    "    gammahi = aabbhi.contained(mesh.X)\n",
    "    gamma = np.concatenate((gammalo, gammahi))\n",
    "    uk = np.concatenate((np.ones(len(gammalo)), np.zeros(len(gammahi))))\n",
    "\n",
    "    # Solve boundary value problem\n",
    "    n = mesh.X.shape[1]\n",
    "    dofs = np.setdiff1d(list(range(n)), gamma)\n",
    "    Lu = L.tocsr()[dofs, :]\n",
    "    Luu = Lu.tocsc()[:, dofs]\n",
    "    Luk = Lu.tocsc()[:, gamma]\n",
    "    Luuinv = pbat.math.linalg.ldlt(Luu)\n",
    "    Luuinv.compute(Luu)\n",
    "    b = -Luk @ uk\n",
    "    uu = Luuinv.solve(b).squeeze()\n",
    "    u = np.zeros(n)\n",
    "    u[gamma] = uk\n",
    "    u[dofs] = uu\n",
    "    return u, mesh"
   ]
  },
  {
   "cell_type": "markdown",
   "id": "5fa6eeb8",
   "metadata": {},
   "source": [
    "### Define the parameters directly"
   ]
  },
  {
   "cell_type": "code",
   "execution_count": null,
   "id": "5fa6eeb9",
   "metadata": {},
   "outputs": [],
   "source": [
    "current_path = os.getcwd()\n",
    "\n",
    "input_path = os.path.join(current_path, 'python' ,'examples', 'notebooks', 'resources', 'bunny.obj')\n",
    "refined_input_path = os.path.join(current_path, 'python', 'examples', 'notebooks', 'resources', 'bunny_refined.obj')"
   ]
  },
  {
   "cell_type": "markdown",
   "id": "5fa6eeba",
   "metadata": {},
   "source": [
    "### Load the mesh and compute necessary quantities"
   ]
  },
  {
   "cell_type": "code",
   "execution_count": null,
   "id": "5fa6eebb",
   "metadata": {},
   "outputs": [],
   "source": [
    "imesh = meshio.read(input_path)\n",
    "V, C, = imesh.points, imesh.cells_dict['tetra']\n",
    "V = np.copy(V, order='c')\n",
    "C = C.astype(np.int64, order='c')\n",
    "u1, mesh1 = harmonic_field(V, C, order=1)\n",
    "u2, mesh2 = harmonic_field(V, C, order=2)\n",
    "bvh = pbat.geometry.bvh(V.T, C.T, cell=pbat.geometry.Cell.Tetrahedron)\n",
    "rmesh = meshio.read(refined_input_path)\n",
    "Vrefined, Crefined = rmesh.points.astype(\n",
    "    np.float64, order='c'), rmesh.cells_dict['tetra'].astype(np.int64, order='c')\n",
    "Frefined = igl.boundary_facets(Crefined)\n",
    "Frefined[:,:2] = np.roll(Frefined[:,:2], shift=1, axis=1)\n",
    "\n",
    "e = bvh.nearest_primitives_to_points(Vrefined.T)\n",
    "Xi1 = pbat.fem.reference_positions(mesh1, e, Vrefined.T)\n",
    "Xi2 = pbat.fem.reference_positions(mesh2, e, Vrefined.T)\n",
    "phi1 = pbat.fem.shape_functions_at(mesh1, Xi1)\n",
    "phi2 = pbat.fem.shape_functions_at(mesh2, Xi2)\n",
    "u1ref = (u1[mesh1.E[:, e]] * phi1).sum(axis=0)\n",
    "u2ref = (u2[mesh2.E[:, e]] * phi2).sum(axis=0)"
   ]
  },
  {
   "cell_type": "markdown",
   "id": "5fa6eebc",
   "metadata": {},
   "source": [
    "### Setup Polyscope and visualization"
   ]
  },
  {
   "cell_type": "code",
   "execution_count": null,
   "id": "5fa6eebd",
   "metadata": {},
   "outputs": [],
   "source": [
    "ps.set_up_dir('z_up')\n",
    "ps.set_front_dir('neg_y_front')\n",
    "ps.set_ground_plane_mode('shadow_only')\n",
    "ps.init()\n",
    "vm = ps.register_volume_mesh('domain refined', Vrefined, Crefined)\n",
    "vm.add_scalar_quantity('Order 1 harmonic solution', u1ref, enabled=True, cmap='turbo')\n",
    "vm.add_scalar_quantity('Order 2 harmonic solution', u2ref, cmap='turbo')\n",
    "niso = 15\n",
    "def isolines(V, F, u, niso):\n",
    "    # Code for libigl 2.5.1\n",
    "    diso = (u.max() - u.min()) / (niso+2)\n",
    "    isovalues = np.array([(i+1)*diso for i in range(niso)])\n",
    "    Viso, Eiso, Iiso = igl.isolines(V, F, u, isovalues)\n",
    "    return Viso, Eiso\n",
    "Viso1, Eiso1 = isolines(Vrefined, Frefined, u1ref, niso)\n",
    "Viso2, Eiso2 = isolines(Vrefined, Frefined, u2ref, niso)\n",
    "cn1 = ps.register_curve_network('Order 1 contours', Viso1, Eiso1)\n",
    "cn1.set_radius(0.002)\n",
    "cn1.set_color((0, 0, 0))\n",
    "cn2 = ps.register_curve_network('Order 2 contours', Viso2, Eiso2)\n",
    "cn2.set_radius(0.002)\n",
    "cn2.set_color((0, 0, 0))\n",
    "cn2.set_enabled(False)\n",
    "ps.show()"
   ]
  }
 ],
 "metadata": {
  "kernelspec": {
   "display_name": "Python 3",
   "language": "python",
   "name": "python3"
  },
  "language_info": {
   "codemirror_mode": {
    "name": "ipython",
    "version": 3
   },
   "file_extension": ".py",
   "mimetype": "text/x-python",
   "name": "python",
   "nbconvert_exporter": "python",
   "pygments_lexer": "ipython3",
   "version": "3.9.7"
  }
 },
 "nbformat": 4,
 "nbformat_minor": 5
}
