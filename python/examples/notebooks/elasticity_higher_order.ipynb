{
 "cells": [
  {
   "cell_type": "code",
   "execution_count": null,
   "id": "d5faae3b",
   "metadata": {},
   "outputs": [],
   "source": [
    "!pip install numpy==1.26.0 scipy==1.14.0 meshio==5.3.5 libigl==v2.5.1 polyscope==2.2.1 ilupp==1.0.2 ipctk==1.2.0 pbatoolkit"
   ]
  },
  {
   "cell_type": "code",
   "execution_count": null,
   "id": "d5faae3b",
   "metadata": {},
   "outputs": [],
   "source": [
    "import pbatoolkit as pbat\n",
    "import pbatoolkit.geometry\n",
    "import pbatoolkit.profiling\n",
    "import pbatoolkit.math.linalg\n",
    "import meshio\n",
    "import numpy as np\n",
    "import scipy as sp\n",
    "import polyscope as ps\n",
    "import polyscope.imgui as imgui\n",
    "import math\n",
    "import argparse\n",
    "import os"
   ]
  },
  {
   "cell_type": "markdown",
   "id": "ba949379",
   "metadata": {},
   "source": [
    "# Define the input paths and other parameters"
   ]
  },
  {
   "cell_type": "code",
   "execution_count": null,
   "id": "bd6b2591",
   "metadata": {},
   "outputs": [],
   "source": [
    "current_path = os.getcwd()\n",
    "\n",
    "input_path = os.path.join(current_path, 'python' ,'examples', 'notebooks', 'resources', 'bunny.obj')\n",
    "\n",
    "refined_input_path = os.path.join(current_path, 'python', 'examples', 'notebooks', 'resources', 'bunny_refined.obj')\n",
    "\n",
    "rho = 1000.\n",
    "Y = 1e6\n",
    "nu = 0.45"
   ]
  },
  {
   "cell_type": "markdown",
   "id": "6a37197c",
   "metadata": {},
   "source": [
    "# Load domain and visual meshes"
   ]
  },
  {
   "cell_type": "code",
   "execution_count": null,
   "id": "c22920c4",
   "metadata": {},
   "outputs": [],
   "source": [
    "\n",
    "imesh = meshio.read(input_path)\n",
    "V, C = imesh.points, imesh.cells_dict[\"tetra\"]\n",
    "V = V.astype(np.float64, order='c')\n",
    "C = C.astype(np.int64, order='c')\n",
    "rimesh = meshio.read(refined_input_path)\n",
    "VR, FR = rimesh.points, rimesh.cells_dict[\"triangle\"]\n",
    "VR = VR.astype(np.float64, order='c')\n",
    "FR = FR.astype np.int64, order='c')"
   ]
  },
  {
   "cell_type": "markdown",
   "id": "663d908b",
   "metadata": {},
   "source": [
    "# Construct FEM quantities for simulation"
   ]
  },
  {
   "cell_type": "code",
   "execution_count": null,
   "id": "f68ab63b",
   "metadata": {},
   "outputs": [],
   "source": [
    "mesh = pbat.fem.Mesh(\n",
    "    V.T, C.T, element=pbat.fem.Element.Tetrahedron, order=2)\n",
    "x = mesh.X.reshape(math.prod(mesh.X.shape), order='f')\n",
    "v = np.zeros(x.shape[0])\n",
    "detJeM = pbat.fem.jacobian_determinants(mesh, quadrature_order=4)\n",
    "M = pbat.fem.MassMatrix(mesh, detJeM, rho=rho,\n",
    "                         dims=3, quadrature_order=4).to_matrix()\n",
    "Minv = pbat.math.linalg.ldlt(M)\n",
    "Minv.compute(M)"
   ]
  },
  {
   "cell_type": "markdown",
   "id": "96f28a5a",
   "metadata": {},
   "source": [
    "# Construct load vector from gravity field"
   ]
  },
  {
   "cell_type": "code",
   "execution_count": null,
   "id": "02f88b94",
   "metadata": {},
   "outputs": [],
   "source": [
    "g = np.zeros(mesh.dims)\n",
    "g[-1] = -9.81\n",
    "detJef = pbat.fem.jacobian_determinants(mesh, quadrature_order=2)\n",
    "nquadpts = mesh.E.shape[1] * mesh.quadrature_weights(2).shape[0]\n",
    "fe = np.tile(rho*g[:, np.newaxis], nquadpts)\n",
    "qgf = pbat.fem.inner_product_weights(\n",
    "    mesh, quadrature_order=2).flatten(order=\"F\")\n",
    "Qf = sp.sparse.diags_array([qgf], offsets=[0])\n",
    "Nf = pbat.fem.shape_function_matrix(mesh, quadrature_order=2)\n",
    "f = fe @ Qf @ Nf\n",
    "f = f.reshape(math.prod(f.shape), order=\"F\")\n",
    "a = Minv.solve(f).squeeze()"
   ]
  },
  {
   "cell_type": "markdown",
   "id": "e1e32246",
   "metadata": {},
   "source": [
    "# Create hyper elastic potential"
   ]
  },
  {
   "cell_type": "code",
   "execution_count": null,
   "id": "2f8b1412",
   "metadata": {},
   "outputs": [],
   "source": [
    "detJeU = pbat.fem.jacobian_determinants(mesh, quadrature_order=4)\n",
    "GNeU = pbat.fem.shape_function_gradients(mesh, quadrature_order=4)\n",
    "Y = np.full(mesh.E.shape[1], Y)\n",
    "nu = np.full(mesh.E.shape[1], nu)\n",
    "psi = pbat.fem.HyperElasticEnergy.StableNeoHookean\n",
    "hep = pbat.fem.HyperElasticPotential(\n",
    "    mesh, detJeU, GNeU, Y, nu, energy=psi, quadrature_order=4)\n",
    "hep.precompute_hessian_sparsity()"
   ]
  },
  {
   "cell_type": "markdown",
   "id": "0639e16e",
   "metadata": {},
   "source": [
    "# Set Dirichlet boundary conditions"
   ]
  },
  {
   "cell_type": "code",
   "execution_count": null,
   "id": "c22920c4",
   "metadata": {},
   "outputs": [],
   "source": [
    "Xmin = mesh.X.min(axis=1)\n",
    "Xmax = mesh.X.max(axis=1)\n",
    "Xmax[0] = Xmin[0]+1e-4\n",
    "Xmin[0] = Xmin[0]-1e-4\n",
    "aabb = pbat.geometry.aabb(np.vstack((Xmin, Xmax)).T)\n",
    "vdbc = aabb.contained(mesh.X)\n",
    "dbcs = np.array(vdbc)[:, np.newaxis]\n",
    "dbcs = np.repeat(dbcs, mesh.dims, axis=1)\n",
    "for d in range(mesh.dims):\n",
    "    dbcs[:, d] = mesh.dims*dbcs[:, d]+d\n",
    "dbcs = dbcs.reshape(math.prod(dbcs.shape))\n",
    "n = x.shape[0]\n",
    "dofs = np.setdiff1d(list(range(n)), dbcs)"
   ]
  },
  {
   "cell_type": "markdown",
   "id": "8dcdff0b",
   "metadata": {},
   "source": [
    "# Setup linear solver"
   ]
  },
  {
   "cell_type": "code",
   "execution_count": null,
   "id": "f68ab63b",
   "metadata": {},
   "outputs": [],
   "source": [
    "Hdd = hep.to_matrix()[:, dofs].tocsr()[dofs, :]\n",
    "Hddinv = pbat.math.linalg.ldlt(Hdd)\n",
    "Hddinv.analyze(Hdd)"
   ]
  },
  {
   "cell_type": "markdown",
   "id": "6a551cfc",
   "metadata": {},
   "source": [
    "# Setup visual mesh"
   ]
  },
  {
   "cell_type": "code",
   "execution_count": null,
   "id": "02f88b94",
   "metadata": {},
   "outputs": [],
   "source": [
    "bvh = pbat.geometry.bvh(V.T, C.T, cell=pbat.geometry.Cell.Tetrahedron)\n",
    "e = bvh.nearest_primitives_to_points(VR.T)\n",
    "Xi = pbat.fem.reference_positions(mesh, e, VR.T)\n",
    "phi = pbat.fem.shape_functions_at(mesh, Xi)\n",
    "\n",
    "ps.set_verbosity(0)\n",
    "ps.set_up_dir(\"z_up\")\n",
    "ps.set_front_dir(\"neg_y_front\")\n",
    "ps.set_ground_plane_mode(\"shadow_only\")\n",
    "ps.set_ground_plane_height_factor(0.5)\n",
    "ps.set_program_name(\"Higher Order Elasticity\")\n",
    "ps.init()\n",
    "vm = ps.register_volume_mesh(\"Domain\", V, C)\n",
    "sm = ps.register_surface_mesh(\"Visual\", VR, FR)\n",
    "pc = ps.register_point_cloud(\"Dirichlet\", mesh.X[:, vdbc].T)\n",
    "dt = 0.01\n",
    "animate = False\n",
    "dx = np.zeros(n)\n",
    "\n",
    "profiler = pbat.profiling.Profiler()"
   ]
  },
  {
   "cell_type": "code",
   "execution_count": null,
   "id": "f78b235c",
   "metadata": {},
   "outputs": [],
   "source": [
    "def callback():\n",
    "    global x, v, dx, hep, dt, M, Minv, f, animate, step, profiler\n",
    "    changed, dt = imgui.InputFloat(\"dt\", dt)\n",
    "    changed, animate = imgui.Checkbox(\"animate\", animate)\n",
    "    step = imgui.Button(\"step\")\n",
    "\n",
    "    if animate or step:\n",
    "        profiler.begin_frame(\"Physics\")\n",
    "        # 1 Newton step\n",
    "        hep.compute_element_elasticity(x, grad=True, hessian=True)\n",
    "        gradU, HU = hep.gradient(), hep.hessian()\n",
    "        dt2 = dt**2\n",
    "        xtilde = x + dt*v + dt2*a\n",
    "        A = M + dt2 * HU\n",
    "        b = -(M @ (x - xtilde) + dt2*gradU)\n",
    "        Add = A.tocsc()[:, dofs].tocsr()[dofs, :]\n",
    "        bd = b[dofs]\n",
    "        Hddinv.factorize(Add)\n",
    "        dx[dofs] = Hddinv.solve(bd).squeeze()\n",
    "        v = dx / dt\n",
    "        x = x + dx\n",
    "        profiler.end_frame(\"Physics\")\n",
    "\n",
    "        # Update visuals\n",
    "        X = x.reshape(mesh.X.shape[0], mesh.X.shape[1], order='f')\n",
    "        xv = (X[:,mesh.E[:,e]] * phi).sum(axis=1)\n",
    "        sm.update_vertex_positions(xv.T)\n",
    "\n",
    "ps.set_user_callback(callback)\n",
    "ps.show()"
   ]
  }
 ],
 "metadata": {
  "kernelspec": {
   "display_name": "Python 3",
   "language": "python",
   "name": "python3"
  },
  "language_info": {
   "codemirror_mode": {
    "name": "ipython",
    "version": 3
   },
   "file_extension": ".py",
   "mimetype": "text/x-python",
   "nbconvert_exporter": "python",
   "pygments_lexer": "ipython3",
   "version": "3.8.5"
  }
 },
 "nbformat": 4,
 "nbformat_minor": 5
}
