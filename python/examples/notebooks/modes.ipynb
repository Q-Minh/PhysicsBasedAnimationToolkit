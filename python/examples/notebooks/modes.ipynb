{
 "cells": [
  {
   "cell_type": "code",
   "execution_count": null,
   "id": "5fa6eeb5",
   "metadata": {},
   "outputs": [],
   "source": [
    "!pip install numpy==1.26.0 scipy==1.14.0 meshio==5.3.5 polyscope==2.2.1 pbatoolkit"
   ]
  },
  {
   "cell_type": "code",
   "execution_count": null,
   "id": "5fa6eeb6",
   "metadata": {},
   "outputs": [],
   "source": [
    "import pbatoolkit as pbat\n",
    "import numpy as np\n",
    "import scipy as sp\n",
    "import polyscope as ps\n",
    "import polyscope.imgui as imgui\n",
    "import time\n",
    "import meshio\n",
    "import os"
   ]
  },
  {
   "cell_type": "code",
   "execution_count": null,
   "id": "5fa6eeb7",
   "metadata": {},
   "outputs": [],
   "source": [
    "def signal(w: float, v: np.ndarray, t: float, c: float, k: float):\n",
    "    u = c*np.sin(k*w*t)*v\n",
    "    return u"
   ]
  },
  {
   "cell_type": "markdown",
   "id": "5fa6eeb8",
   "metadata": {},
   "source": [
    "### Define the parameters directly"
   ]
  },
  {
   "cell_type": "code",
   "execution_count": null,
   "id": "5fa6eeb9",
   "metadata": {},
   "outputs": [],
   "source": [
    "current_path = os.getcwd()\n",
    "\n",
    "input_path = os.path.join(current_path, 'python' ,'examples', 'notebooks', 'resources', 'tetreahedron.obj')\n",
    "\n",
    "mass_density = 1000.0\n",
    "young_modulus = 1e6\n",
    "poisson_ratio = 0.45\n",
    "num_modes = 30"
   ]
  },
  {
   "cell_type": "markdown",
   "id": "5fa6eeba",
   "metadata": {},
   "source": [
    "### Load the mesh and compute necessary quantities"
   ]
  },
  {
   "cell_type": "code",
   "execution_count": null,
   "id": "5fa6eebb",
   "metadata": {},
   "outputs": [],
   "source": [
    "imesh = meshio.read(input_path)\n",
    "V, C = imesh.points, imesh.cells_dict['tetra']\n",
    "mesh = pbat.fem.Mesh(\n",
    "    V.T, C.T, element=pbat.fem.Element.Tetrahedron, order=1)\n",
    "x = mesh.X.reshape(mesh.X.shape[0]*mesh.X.shape[1], order='f')\n",
    "detJeM = pbat.fem.jacobian_determinants(mesh, quadrature_order=2)\n",
    "M = pbat.fem.MassMatrix(mesh, detJeM, rho=mass_density,\n",
    "                        dims=3, quadrature_order=2).to_matrix()\n",
    "\n",
    "detJeU = pbat.fem.jacobian_determinants(mesh, quadrature_order=1)\n",
    "GNeU = pbat.fem.shape_function_gradients(mesh, quadrature_order=1)\n",
    "Y = np.full(mesh.E.shape[1], young_modulus)\n",
    "nu = np.full(mesh.E.shape[1], poisson_ratio)\n",
    "hep = pbat.fem.HyperElasticPotential(\n",
    "    mesh, detJeU, GNeU, Y, nu, energy=pbat.fem.HyperElasticEnergy.StableNeoHookean, quadrature_order=1)\n",
    "hep.precompute_hessian_sparsity()\n",
    "hep.compute_element_elasticity(x)\n",
    "U, gradU, HU = hep.eval(), hep.gradient(), hep.hessian()\n",
    "sigma = -1e-5\n",
    "leigs, Veigs = sp.sparse.linalg.eigsh(HU, k=num_modes, M=M, sigma=sigma, which='LM')\n",
    "Veigs = Veigs / sp.linalg.norm(Veigs, axis=0, keepdims=True)\n",
    "leigs[leigs <= 0] = 0\n",
    "w = np.sqrt(leigs)"
   ]
  },
  {
   "cell_type": "markdown",
   "id": "5fa6eebc",
   "metadata": {},
   "source": [
    "### Setup Polyscope and visualization"
   ]
  },
  {
   "cell_type": "code",
   "execution_count": null,
   "id": "5fa6eebd",
   "metadata": {},
   "outputs": [],
   "source": [
    "ps.set_up_dir('z_up')\n",
    "ps.set_front_dir('neg_y_front')\n",
    "ps.set_ground_plane_mode('shadow_only')\n",
    "ps.init()\n",
    "vm = ps.register_volume_mesh('model', mesh.X.T, mesh.E.T)\n",
    "mode = 6\n",
    "t0 = time.time()\n",
    "t = 0\n",
    "c = 0.15\n",
    "k = 0.05\n",
    "\n",
    "def callback():\n",
    "    global mode, c, k\n",
    "    changed, mode = imgui.InputInt('Mode', mode)\n",
    "    changed, c = imgui.InputFloat('Wave amplitude', c)\n",
    "    changed, k = imgui.InputFloat('Wave frequency', k)\n",
    "\n",
    "    t = time.time() - t0\n",
    "    X = mesh.X.T + signal(w[mode], Veigs[:, mode],\n",
    "                          t, c, k).reshape(mesh.X.shape[1], 3)\n",
    "    vm.update_vertex_positions(X)\n",
    "\n",
    "ps.set_user_callback(callback)\n",
    "ps.show()"
   ]
  }
 ],
 "metadata": {
  "kernelspec": {
   "display_name": "Python 3",
   "language": "python",
   "name": "python3"
  },
  "language_info": {
   "codemirror_mode": {
    "name": "ipython",
    "version": 3
   },
   "file_extension": ".py",
   "mimetype": "text/x-python",
   "name": "python",
   "nbconvert_exporter": "python",
   "pygments_lexer": "ipython3",
   "version": "3.9.7"
  }
 },
 "nbformat": 4,
 "nbformat_minor": 5
}
