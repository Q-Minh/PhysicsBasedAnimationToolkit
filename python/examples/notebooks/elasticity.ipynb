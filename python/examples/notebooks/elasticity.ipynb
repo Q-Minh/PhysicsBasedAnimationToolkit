{
 "cells": [
  {
   "cell_type": "code",
   "execution_count": null,
   "id": "d5faae3b",
   "metadata": {},
   "outputs": [],
   "source": [
    "!pip install numpy==1.26.0 scipy==1.14.0 meshio==5.3.5 libigl==v2.5.1 polyscope==2.2.1 ilupp==1.0.2 ipctk==1.2.0 pbatoolkit"
   ]
  },
  {
   "cell_type": "code",
   "execution_count": null,
   "id": "d5faae3b",
   "metadata": {},
   "outputs": [],
   "source": [
    "import pbatoolkit as pbat\n",
    "import pbatoolkit.geometry\n",
    "import pbatoolkit.profiling\n",
    "import pbatoolkit.math.linalg\n",
    "import ilupp\n",
    "import meshio\n",
    "import numpy as np\n",
    "import scipy as sp\n",
    "import polyscope as ps\n",
    "import polyscope.imgui as imgui\n",
    "import math\n",
    "import argparse\n",
    "import os"
   ]
  },
  {
   "cell_type": "markdown",
   "id": "fcf04c83",
   "metadata": {},
   "source": [
    "# Define the input paths and other parameters"
   ]
  },
  {
   "cell_type": "code",
   "execution_count": null,
   "id": "bd6b2591",
   "metadata": {},
   "outputs": [],
   "source": [
    "current_path = os.getcwd()\n",
    "\n",
    "input_path = os.path.join(current_path, 'python' ,'examples', 'notebooks', 'resources', 'bunny.obj')\n",
    "\n",
    "rho = 1000.\n",
    "Y = 1e6\n",
    "nu = 0.45"
   ]
  },
  {
   "cell_type": "markdown",
   "id": "dc313938",
   "metadata": {},
   "source": [
    "# Load domain mesh"
   ]
  },
  {
   "cell_type": "code",
   "execution_count": null,
   "id": "c22920c4",
   "metadata": {},
   "outputs": [],
   "source": [
    "imesh = meshio.read(input_path)\n",
    "V, C = imesh.points, imesh.cells_dict[\"tetra\"]\n",
    "mesh = pbat.fem.Mesh(\n",
    "    V.T, C.T, element=pbat.fem.Element.Tetrahedron, order=1)\n",
    "x = mesh.X.reshape(math.prod(mesh.X.shape), order='f')\n",
    "v = np.zeros(x.shape[0])\n",
    "detJeM = pbat.fem.jacobian_determinants(mesh, quadrature_order=2)\n",
    "M = pbat.fem.MassMatrix(mesh, detJeM, rho=rho,\n",
    "                        dims=3, quadrature_order=2).to_matrix()\n",
    "Minv = pbat.math.linalg.ldlt(M)\n",
    "Minv.compute(M)"
   ]
  },
  {
   "cell_type": "markdown",
   "id": "c40e864e",
   "metadata": {},
   "source": [
    "# Construct load vector from gravity field"
   ]
  },
  {
   "cell_type": "code",
   "execution_count": null,
   "id": "f68ab63b",
   "metadata": {},
   "outputs": [],
   "source": [
    "detJeU = pbat.fem.jacobian_determinants(mesh, quadrature_order=1)\n",
    "GNeU = pbat.fem.shape_function_gradients(mesh, quadrature_order=1)\n",
    "qgf = pbat.fem.inner_product_weights(\n",
    "    mesh, quadrature_order=1).flatten(order=\"F\")\n",
    "Qf = sp.sparse.diags_array([qgf], offsets=[0])\n",
    "Nf = pbat.fem.shape_function_matrix(mesh, quadrature_order=1)\n",
    "g = np.zeros(mesh.dims)\n",
    "g[-1] = -9.81\n",
    "fe = np.tile(rho*g[:, np.newaxis], mesh.E.shape[1])\n",
    "f = fe @ Qf @ Nf\n",
    "f = f.reshape(math.prod(f.shape), order=\"F\")\n",
    "a = Minv.solve(f).squeeze()"
   ]
  },
  {
   "cell_type": "markdown",
   "id": "df30b852",
   "metadata": {},
   "source": [
    "# Create hyper elastic potential"
   ]
  },
  {
   "cell_type": "code",
   "execution_count": null,
   "id": "02f88b94",
   "metadata": {},
   "outputs": [],
   "source": [
    "Y = np.full(mesh.E.shape[1], Y)\n",
    "nu = np.full(mesh.E.shape[1], nu)\n",
    "psi = pbat.fem.HyperElasticEnergy.StableNeoHookean\n",
    "hep = pbat.fem.HyperElasticPotential(\n",
    "    mesh, detJeU, GNeU, Y, nu, energy=psi, quadrature_order=1)\n",
    "hep.precompute_hessian_sparsity()"
   ]
  },
  {
   "cell_type": "markdown",
   "id": "b832f337",
   "metadata": {},
   "source": [
    "# Set Dirichlet boundary conditions"
   ]
  },
  {
   "cell_type": "code",
   "execution_count": null,
   "id": "c22920c4",
   "metadata": {},
   "outputs": [],
   "source": [
    "Xmin = mesh.X.min(axis=1)\n",
    "Xmax = mesh.X.max(axis=1)\n",
    "Xmax[0] = Xmin[0]+1e-4\n",
    "Xmin[0] = Xmin[0]-1e-4\n",
    "aabb = pbat.geometry.aabb(np.vstack((Xmin, Xmax)).T)\n",
    "vdbc = aabb.contained(mesh.X)\n",
    "dbcs = np.array(vdbc)[:, np.newaxis]\n",
    "dbcs = np.repeat(dbcs, mesh.dims, axis=1)\n",
    "for d in range(mesh.dims):\n",
    "    dbcs[:, d] = mesh.dims*dbcs[:, d]+d\n",
    "dbcs = dbcs.reshape(math.prod(dbcs.shape))\n",
    "n = x.shape[0]\n",
    "dofs = np.setdiff1d(list(range(n)), dbcs)"
   ]
  },
  {
   "cell_type": "markdown",
   "id": "7f4b9b10",
   "metadata": {},
   "source": [
    "# Setup linear solver"
   ]
  },
  {
   "cell_type": "code",
   "execution_count": null,
   "id": "f68ab63b",
   "metadata": {},
   "outputs": [],
   "source": [
    "Hdd = hep.to_matrix()[:, dofs].tocsr()[dofs, :]\n",
    "Mdd = M[:, dofs].tocsr()[dofs, :]\n",
    "Addinv = pbat.math.linalg.ldlt(\n",
    "    Hdd, solver=pbat.math.linalg.SolverBackend.Eigen)\n",
    "Addinv.analyze(Hdd)"
   ]
  },
  {
   "cell_type": "code",
   "execution_count": null,
   "id": "02f88b94",
   "metadata": {},
   "outputs": [],
   "source": [
    "ps.set_verbosity(0)\n",
    "ps.set_up_dir(\"z_up\")\n",
    "ps.set_front_dir(\"neg_y_front\")\n",
    "ps.set_ground_plane_mode(\"shadow_only\")\n",
    "ps.set_ground_plane_height_factor(0.5)\n",
    "ps.set_program_name(\"Elasticity\")\n",
    "ps.init()\n",
    "vm = ps.register_volume_mesh(\"world model\", mesh.X.T, mesh.E.T)\n",
    "pc = ps.register_point_cloud(\"Dirichlet\", mesh.X[:, vdbc].T)\n",
    "dt = 0.01\n",
    "animate = False\n",
    "use_direct_solver = False\n",
    "newton_maxiter = 1\n",
    "cg_fill_in = 0.01\n",
    "cg_drop_tolerance = 1e-4\n",
    "cg_residual = 1e-5\n",
    "cg_maxiter = 100\n",
    "dx = np.zeros(n)\n",
    "\n",
    "profiler = pbat.profiling.Profiler()"
   ]
  },
  {
   "cell_type": "code",
   "execution_count": null,
   "id": "f78b235c",
   "metadata": {},
   "outputs": [],
   "source": [
    "def callback():\n",
    "    global x, v, dx, hep, dt, M, Minv, f\n",
    "    global cg_fill_in, cg_drop_tolerance, cg_residual, cg_maxiter\n",
    "    global animate, step, use_direct_solver\n",
    "    global newton_maxiter\n",
    "    global profiler\n",
    "\n",
    "    changed, dt = imgui.InputFloat(\"dt\", dt)\n",
    "    changed, newton_maxiter = imgui.InputInt(\n",
    "        \"Newton max iterations\", newton_maxiter)\n",
    "    changed, cg_fill_in = imgui.InputFloat(\n",
    "        \"IC column fill in\", cg_fill_in, format=\"%.4f\")\n",
    "    changed, cg_drop_tolerance = imgui.InputFloat(\n",
    "        \"IC drop tolerance\", cg_drop_tolerance, format=\"%.8f\")\n",
    "    changed, cg_residual = imgui.InputFloat(\n",
    "        \"PCG residual\", cg_residual, format=\"%.8f\")\n",
    "    changed, cg_maxiter = imgui.InputInt(\n",
    "        \"PCG max iterations\", cg_maxiter)\n",
    "    changed, animate = imgui.Checkbox(\"animate\", animate)\n",
    "    changed, use_direct_solver = imgui.Checkbox(\n",
    "        \"Use direct solver\", use_direct_solver)\n",
    "    step = imgui.Button(\"step\")\n",
    "\n",
    "    if animate or step:\n",
    "        profiler.begin_frame(\"Physics\")\n",
    "        # Newton solve\n",
    "        dt2 = dt**2\n",
    "        xtilde = x + dt*v + dt2*a\n",
    "        xk = x\n",
    "        for k in range(newton_maxiter):\n",
    "            hep.compute_element_elasticity(xk, grad=True, hessian=True)\n",
    "            gradU, HU = hep.gradient(), hep.hessian()\n",
    "\n",
    "            global bd, Add\n",
    "\n",
    "            def setup():\n",
    "                global bd, Add\n",
    "                A = M + dt2 * HU\n",
    "                b = -(M @ (xk - xtilde) + dt2*gradU)\n",
    "                Add = A.tocsc()[:, dofs].tocsr()[dofs, :]\n",
    "                bd = b[dofs]\n",
    "\n",
    "            profiler.profile(\"Setup Linear System\", setup)\n",
    "\n",
    "            if k > 0:\n",
    "                gradnorm = np.linalg.norm(bd, 1)\n",
    "                if gradnorm < 1e-3:\n",
    "                    break\n",
    "\n",
    "            def solve():\n",
    "                global dx, Add, bd\n",
    "                global cg_fill_in, cg_drop_tolerance, cg_maxiter, cg_residual\n",
    "                global use_direct_solver\n",
    "                if use_direct_solver:\n",
    "                    Addinv.factorize(Add)\n",
    "                    dx[dofs] = Addinv.solve(bd).squeeze()\n",
    "                else:\n",
    "                    P = ilupp.ICholTPreconditioner(\n",
    "                        Add, add_fill_in=int(Add.shape[0]*cg_fill_in), threshold=cg_drop_tolerance)\n",
    "                    dx[dofs], cginfo = sp.sparse.linalg.cg(\n",
    "                        Add, bd, rtol=cg_residual, maxiter=cg_maxiter, M=P)\n",
    "\n",
    "            profiler.profile(\"Solve Linear System\", solve)\n",
    "            xk = xk + dx\n",
    "\n",
    "        v = (xk - x) / dt\n",
    "        x = xk\n",
    "        profiler.end_frame(\"Physics\")\n",
    "\n",
    "        # Update visuals\n",
    "        X = x.reshape(mesh.X.shape[0], mesh.X.shape[1], order='f')\n",
    "        vm.update_vertex_positions(X.T)\n",
    "\n",
    "ps.set_user_callback(callback)\n",
    "ps.show()"
   ]
  }
 ],
 "metadata": {
  "kernelspec": {
   "display_name": "Python 3",
   "language": "python",
   "name": "python3"
  },
  "language_info": {
   "codemirror_mode": {
    "name": "ipython",
    "version": 3
   },
   "file_extension": ".py",
   "mimetype": "text/x-python",
   "name": "python",
   "nbconvert_exporter": "python",
   "pygments_lexer": "ipython3",
   "version": "3.8.5"
  }
 },
 "nbformat": 4,
 "nbformat_minor": 5
}
